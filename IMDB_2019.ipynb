{
 "cells": [
  {
   "cell_type": "code",
   "execution_count": 136,
   "metadata": {},
   "outputs": [],
   "source": [
    "from bs4 import BeautifulSoup\n",
    "import requests\n",
    "import pandas as pd"
   ]
  },
  {
   "cell_type": "code",
   "execution_count": 137,
   "metadata": {
    "scrolled": true
   },
   "outputs": [],
   "source": [
    "url = \"https://www.imdb.com/search/title/?release_date=2019-01-01,2019-12-31\"\n",
    "soup = requests.get(url)\n",
    "imdb_html = BeautifulSoup(soup.content, \"html.parser\")"
   ]
  },
  {
   "cell_type": "code",
   "execution_count": 138,
   "metadata": {},
   "outputs": [],
   "source": [
    "content = imdb_html.find_all('div', attrs={'class' : 'lister-item-content'})"
   ]
  },
  {
   "cell_type": "code",
   "execution_count": 139,
   "metadata": {
    "scrolled": true
   },
   "outputs": [],
   "source": [
    "temp = []\n",
    "for i in range(0, len(content)) :\n",
    "    title = content[i].a.text\n",
    "    title = title.strip()\n",
    "    rating = content[i].strong.text\n",
    "    rating = rating.strip()\n",
    "    try:\n",
    "        metascore_mixed = content[i].find('span', attrs={'class' : 'metascore mixed'}).text\n",
    "        metascore_mixed = metascore_mixed.strip()\n",
    "    except:\n",
    "        metascore_mixed = \" \"\n",
    "    try:\n",
    "        metascore_favorable = content[i].find('span', attrs={'class' : 'metascore favorable'}).text\n",
    "        metascore_favorable = metascore_favorable.strip()\n",
    "    except:\n",
    "        metascore_favorable = \" \"\n",
    "    votes = content[i].find('span', attrs={'name' : 'nv'}).text\n",
    "    votes = votes.strip()\n",
    "  \n",
    "    temp.append((title, rating, metascore_mixed, metascore_favorable, votes))\n",
    "    \n",
    "\n"
   ]
  },
  {
   "cell_type": "code",
   "execution_count": 140,
   "metadata": {
    "scrolled": true
   },
   "outputs": [
    {
     "data": {
      "text/html": [
       "<div>\n",
       "<style scoped>\n",
       "    .dataframe tbody tr th:only-of-type {\n",
       "        vertical-align: middle;\n",
       "    }\n",
       "\n",
       "    .dataframe tbody tr th {\n",
       "        vertical-align: top;\n",
       "    }\n",
       "\n",
       "    .dataframe thead th {\n",
       "        text-align: right;\n",
       "    }\n",
       "</style>\n",
       "<table border=\"1\" class=\"dataframe\">\n",
       "  <thead>\n",
       "    <tr style=\"text-align: right;\">\n",
       "      <th></th>\n",
       "      <th>Judul</th>\n",
       "      <th>Rating</th>\n",
       "      <th>Metascore_Mixed</th>\n",
       "      <th>Metascore_Favorable</th>\n",
       "      <th>Votes</th>\n",
       "    </tr>\n",
       "  </thead>\n",
       "  <tbody>\n",
       "    <tr>\n",
       "      <th>0</th>\n",
       "      <td>Star Wars: Episode IX - The Rise of Skywalker</td>\n",
       "      <td>6.7</td>\n",
       "      <td>53</td>\n",
       "      <td></td>\n",
       "      <td>319,690</td>\n",
       "    </tr>\n",
       "    <tr>\n",
       "      <th>1</th>\n",
       "      <td>The Mandalorian</td>\n",
       "      <td>8.7</td>\n",
       "      <td></td>\n",
       "      <td></td>\n",
       "      <td>167,284</td>\n",
       "    </tr>\n",
       "    <tr>\n",
       "      <th>2</th>\n",
       "      <td>After Life</td>\n",
       "      <td>8.5</td>\n",
       "      <td></td>\n",
       "      <td></td>\n",
       "      <td>67,297</td>\n",
       "    </tr>\n",
       "    <tr>\n",
       "      <th>3</th>\n",
       "      <td>Dead to Me</td>\n",
       "      <td>8.1</td>\n",
       "      <td></td>\n",
       "      <td></td>\n",
       "      <td>37,439</td>\n",
       "    </tr>\n",
       "    <tr>\n",
       "      <th>4</th>\n",
       "      <td>Once Upon a Time... in Hollywood</td>\n",
       "      <td>7.7</td>\n",
       "      <td></td>\n",
       "      <td>83</td>\n",
       "      <td>462,778</td>\n",
       "    </tr>\n",
       "  </tbody>\n",
       "</table>\n",
       "</div>"
      ],
      "text/plain": [
       "                                           Judul  Rating Metascore_Mixed  \\\n",
       "0  Star Wars: Episode IX - The Rise of Skywalker     6.7              53   \n",
       "1                                The Mandalorian     8.7                   \n",
       "2                                     After Life     8.5                   \n",
       "3                                     Dead to Me     8.1                   \n",
       "4               Once Upon a Time... in Hollywood     7.7                   \n",
       "\n",
       "  Metascore_Favorable    Votes  \n",
       "0                      319,690  \n",
       "1                      167,284  \n",
       "2                       67,297  \n",
       "3                       37,439  \n",
       "4                  83  462,778  "
      ]
     },
     "execution_count": 140,
     "metadata": {},
     "output_type": "execute_result"
    }
   ],
   "source": [
    "imdb_table = pd.DataFrame(temp, columns=('Judul', 'Rating', 'Metascore_Mixed', 'Metascore_Favorable', 'Votes'))\n",
    "imdb_table['Rating'] = imdb_table['Rating'].astype('float64')\n",
    "imdb_table.head()"
   ]
  },
  {
   "cell_type": "code",
   "execution_count": 141,
   "metadata": {},
   "outputs": [],
   "source": [
    "imdb_table['Metascore'] = imdb_table['Metascore_Favorable'] + imdb_table['Metascore_Mixed']\n",
    "\n",
    "final_table = imdb_table[['Judul', 'Rating', 'Metascore', 'Votes']]"
   ]
  },
  {
   "cell_type": "code",
   "execution_count": 142,
   "metadata": {
    "scrolled": true
   },
   "outputs": [
    {
     "data": {
      "text/plain": [
       "Judul         object\n",
       "Rating       float64\n",
       "Metascore    float64\n",
       "Votes          int64\n",
       "dtype: object"
      ]
     },
     "execution_count": 142,
     "metadata": {},
     "output_type": "execute_result"
    }
   ],
   "source": [
    "final_table = final_table.replace(r'^\\s*$', np.nan, regex=True)\n",
    "final_table['Metascore'] = final_table['Metascore'].astype('float64')\n",
    "final_table['Votes'] = final_table['Votes'].str.replace(\",\", \"\").astype('int64')\n",
    "final_table.dtypes"
   ]
  },
  {
   "cell_type": "code",
   "execution_count": 143,
   "metadata": {
    "scrolled": false
   },
   "outputs": [
    {
     "data": {
      "text/plain": [
       "<matplotlib.axes._subplots.AxesSubplot at 0x165ee8a8340>"
      ]
     },
     "execution_count": 143,
     "metadata": {},
     "output_type": "execute_result"
    },
    {
     "data": {
      "image/png": "[encoded data removed]",
      "text/plain": [
       "<Figure size 432x288 with 1 Axes>"
      ]
     },
     "metadata": {
      "needs_background": "light"
     },
     "output_type": "display_data"
    }
   ],
   "source": [
    "final_table.set_index('Judul')[['Rating']].sort_values('Rating', ascending=False).head(7).plot(kind='bar')"
   ]
  },
  {
   "cell_type": "code",
   "execution_count": 144,
   "metadata": {},
   "outputs": [
    {
     "data": {
      "text/plain": [
       "<matplotlib.axes._subplots.AxesSubplot at 0x165ee9f4100>"
      ]
     },
     "execution_count": 144,
     "metadata": {},
     "output_type": "execute_result"
    },
    {
     "data": {
      "image/png": "[encoded data removed]",
      "text/plain": [
       "<Figure size 432x288 with 1 Axes>"
      ]
     },
     "metadata": {
      "needs_background": "light"
     },
     "output_type": "display_data"
    }
   ],
   "source": [
    "final_table.set_index('Judul')[['Votes']].sort_values('Votes', ascending=False).head(7).plot(kind='bar')"
   ]
  },
  {
   "cell_type": "code",
   "execution_count": 145,
   "metadata": {},
   "outputs": [
    {
     "data": {
      "text/plain": [
       "<matplotlib.axes._subplots.AxesSubplot at 0x165ee979190>"
      ]
     },
     "execution_count": 145,
     "metadata": {},
     "output_type": "execute_result"
    },
    {
     "data": {
      "image/png": "[encoded data removed]",
      "text/plain": [
       "<Figure size 432x288 with 1 Axes>"
      ]
     },
     "metadata": {
      "needs_background": "light"
     },
     "output_type": "display_data"
    }
   ],
   "source": [
    "final_table.set_index('Judul')[['Votes']].sort_values('Votes', ascending=False).head(7).plot(kind='bar')"
   ]
  }
 ],
 "metadata": {
  "kernelspec": {
   "display_name": "Python [conda env:scraping]",
   "language": "python",
   "name": "conda-env-scraping-py"
  },
  "language_info": {
   "codemirror_mode": {
    "name": "ipython",
    "version": 3
   },
   "file_extension": ".py",
   "mimetype": "text/x-python",
   "name": "python",
   "nbconvert_exporter": "python",
   "pygments_lexer": "ipython3",
   "version": "3.8.2"
  },
  "toc": {
   "base_numbering": 1,
   "nav_menu": {},
   "number_sections": true,
   "sideBar": true,
   "skip_h1_title": false,
   "title_cell": "Table of Contents",
   "title_sidebar": "Contents",
   "toc_cell": false,
   "toc_position": {},
   "toc_section_display": true,
   "toc_window_display": false
  },
  "varInspector": {
   "cols": {
    "lenName": 16,
    "lenType": 16,
    "lenVar": 40
   },
   "kernels_config": {
    "python": {
     "delete_cmd_postfix": "",
     "delete_cmd_prefix": "del ",
     "library": "var_list.py",
     "varRefreshCmd": "print(var_dic_list())"
    },
    "r": {
     "delete_cmd_postfix": ") ",
     "delete_cmd_prefix": "rm(",
     "library": "var_list.r",
     "varRefreshCmd": "cat(var_dic_list()) "
    }
   },
   "types_to_exclude": [
    "module",
    "function",
    "builtin_function_or_method",
    "instance",
    "_Feature"
   ],
   "window_display": false
  }
 },
 "nbformat": 4,
 "nbformat_minor": 4
}
